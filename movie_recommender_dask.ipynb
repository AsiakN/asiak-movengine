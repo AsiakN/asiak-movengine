{
 "cells": [
  {
   "cell_type": "code",
   "execution_count": 3,
   "metadata": {},
   "outputs": [],
   "source": [
    "import pandas as pd \n",
    "import numpy as np \n",
    "#import seaborn as sns\n",
    "from scipy.sparse import csr_matrix\n",
    "import matplotlib.pyplot as plt\n",
    "import os\n",
    "import vaex as va\n",
    "#from tqdm import tqdm\n",
    "#import dask.dataframe as dd\n",
    "# dask.dataframe as dd\n",
    "#import dask.array as da\n",
    "#import dask.bag as dg\n",
    "main_directory = os.getcwd()\n",
    "target_directory = \"ml-latest/ml-latest/\"\n",
    "work_directory = os.path.join(main_directory, target_directory)\n"
   ]
  },
  {
   "cell_type": "code",
   "execution_count": 14,
   "metadata": {},
   "outputs": [
    {
     "name": "stdout",
     "output_type": "stream",
     "text": [
      "CPU times: user 572 ms, sys: 85.4 ms, total: 657 ms\n",
      "Wall time: 1.17 s\n"
     ]
    }
   ],
   "source": [
    "%%time\n",
    "movies =  va.from_csv(os.path.join(work_directory,'movies.csv'), convert=True, chunk_size=100000)"
   ]
  },
  {
   "cell_type": "code",
   "execution_count": 15,
   "metadata": {},
   "outputs": [
    {
     "name": "stdout",
     "output_type": "stream",
     "text": [
      "CPU times: user 14.7 s, sys: 5.6 s, total: 20.3 s\n",
      "Wall time: 17 s\n"
     ]
    }
   ],
   "source": [
    "%%time\n",
    "ratings = va.from_csv(os.path.join(work_directory, 'ratings.csv'), convert=True, chunk_size=100000)\n"
   ]
  },
  {
   "cell_type": "code",
   "execution_count": 17,
   "metadata": {},
   "outputs": [
    {
     "data": {
      "text/plain": [
       "vaex.dataframe.DataFrameLocal"
      ]
     },
     "execution_count": 17,
     "metadata": {},
     "output_type": "execute_result"
    }
   ],
   "source": [
    "#type(movies)\n",
    "type(ratings)"
   ]
  },
  {
   "cell_type": "code",
   "execution_count": 22,
   "metadata": {},
   "outputs": [],
   "source": [
    "movies = va.open(os.path.join(work_directory, 'movies.csv.hdf5'))\n",
    "#ratings = va.open(os.path.join(work_directory, 'ratings.csv.hdf5'))"
   ]
  },
  {
   "cell_type": "code",
   "execution_count": 28,
   "metadata": {},
   "outputs": [],
   "source": [
    "ratings = pd.read_csv(os.path.join(work_directory, 'ratings.csv'))"
   ]
  },
  {
   "cell_type": "code",
   "execution_count": 35,
   "metadata": {},
   "outputs": [
    {
     "data": {
      "text/plain": [
       "278"
      ]
     },
     "execution_count": 35,
     "metadata": {},
     "output_type": "execute_result"
    }
   ],
   "source": [
    "chunk_size = 100000\n",
    "chunks = [x for x in range(0, ratings.shape[0], chunk_size)]\n",
    "len(chunks)\n",
    "#ratings.shape[0]"
   ]
  },
  {
   "cell_type": "code",
   "execution_count": 37,
   "metadata": {},
   "outputs": [
    {
     "name": "stderr",
     "output_type": "stream",
     "text": [
      "  3%|▎         | 8/277 [04:49<2:43:55, 36.56s/it]"
     ]
    },
    {
     "ename": "",
     "evalue": "",
     "output_type": "error",
     "traceback": [
      "\u001b[1;31mCanceled future for execute_request message before replies were done"
     ]
    },
    {
     "ename": "",
     "evalue": "",
     "output_type": "error",
     "traceback": [
      "\u001b[1;31mThe Kernel crashed while executing code in the the current cell or a previous cell. Please review the code in the cell(s) to identify a possible cause of the failure. Click <a href='https://aka.ms/vscodeJupyterKernelCrash'>here</a> for more info. View Jupyter <a href='command:jupyter.viewOutput'>log</a> for further details."
     ]
    }
   ],
   "source": [
    "from tqdm import tqdm\n",
    "\n",
    "chunk_size = 100000\n",
    "chunks = [x for x in range(0, ratings.shape[0], chunk_size)]\n",
    "pivot_df = pd.DataFrame()\n",
    "#final_dataset = ratings.pivot(index='movieId', columns='userId', values='rating')\n",
    "\n",
    "for i in tqdm(range(0, len(chunks) - 1)):\n",
    "    chunk_df = ratings.iloc[ chunks[i]:chunks[i + 1] - 1]\n",
    "    interactions = chunk_df.pivot(index='movieId', columns='userId', values='rating')\n",
    "    #print (interactions.shape)\n",
    "    pivot_df = pivot_df.append(interactions, sort=False) "
   ]
  },
  {
   "cell_type": "code",
   "execution_count": 23,
   "metadata": {},
   "outputs": [
    {
     "data": {
      "text/html": [
       "<table>\n",
       "<thead>\n",
       "<tr><th>#                            </th><th style=\"text-align: right;\">  userId</th><th style=\"text-align: right;\">  movieId</th><th style=\"text-align: right;\">  rating</th><th style=\"text-align: right;\">  timestamp</th></tr>\n",
       "</thead>\n",
       "<tbody>\n",
       "<tr><td><i style='opacity: 0.6'>0</i></td><td style=\"text-align: right;\">       1</td><td style=\"text-align: right;\">      307</td><td style=\"text-align: right;\">     3.5</td><td style=\"text-align: right;\"> 1256677221</td></tr>\n",
       "<tr><td><i style='opacity: 0.6'>1</i></td><td style=\"text-align: right;\">       1</td><td style=\"text-align: right;\">      481</td><td style=\"text-align: right;\">     3.5</td><td style=\"text-align: right;\"> 1256677456</td></tr>\n",
       "<tr><td><i style='opacity: 0.6'>2</i></td><td style=\"text-align: right;\">       1</td><td style=\"text-align: right;\">     1091</td><td style=\"text-align: right;\">     1.5</td><td style=\"text-align: right;\"> 1256677471</td></tr>\n",
       "<tr><td><i style='opacity: 0.6'>3</i></td><td style=\"text-align: right;\">       1</td><td style=\"text-align: right;\">     1257</td><td style=\"text-align: right;\">     4.5</td><td style=\"text-align: right;\"> 1256677460</td></tr>\n",
       "<tr><td><i style='opacity: 0.6'>4</i></td><td style=\"text-align: right;\">       1</td><td style=\"text-align: right;\">     1449</td><td style=\"text-align: right;\">     4.5</td><td style=\"text-align: right;\"> 1256677264</td></tr>\n",
       "<tr><td><i style='opacity: 0.6'>5</i></td><td style=\"text-align: right;\">       1</td><td style=\"text-align: right;\">     1590</td><td style=\"text-align: right;\">     2.5</td><td style=\"text-align: right;\"> 1256677236</td></tr>\n",
       "<tr><td><i style='opacity: 0.6'>6</i></td><td style=\"text-align: right;\">       1</td><td style=\"text-align: right;\">     1591</td><td style=\"text-align: right;\">     1.5</td><td style=\"text-align: right;\"> 1256677475</td></tr>\n",
       "<tr><td><i style='opacity: 0.6'>7</i></td><td style=\"text-align: right;\">       1</td><td style=\"text-align: right;\">     2134</td><td style=\"text-align: right;\">     4.5</td><td style=\"text-align: right;\"> 1256677464</td></tr>\n",
       "<tr><td><i style='opacity: 0.6'>8</i></td><td style=\"text-align: right;\">       1</td><td style=\"text-align: right;\">     2478</td><td style=\"text-align: right;\">     4  </td><td style=\"text-align: right;\"> 1256677239</td></tr>\n",
       "<tr><td><i style='opacity: 0.6'>9</i></td><td style=\"text-align: right;\">       1</td><td style=\"text-align: right;\">     2840</td><td style=\"text-align: right;\">     3  </td><td style=\"text-align: right;\"> 1256677500</td></tr>\n",
       "</tbody>\n",
       "</table>"
      ],
      "text/plain": [
       "  #    userId    movieId    rating    timestamp\n",
       "  0         1        307       3.5   1256677221\n",
       "  1         1        481       3.5   1256677456\n",
       "  2         1       1091       1.5   1256677471\n",
       "  3         1       1257       4.5   1256677460\n",
       "  4         1       1449       4.5   1256677264\n",
       "  5         1       1590       2.5   1256677236\n",
       "  6         1       1591       1.5   1256677475\n",
       "  7         1       2134       4.5   1256677464\n",
       "  8         1       2478       4     1256677239\n",
       "  9         1       2840       3     1256677500"
      ]
     },
     "execution_count": 23,
     "metadata": {},
     "output_type": "execute_result"
    }
   ],
   "source": [
    "ratings.head()"
   ]
  },
  {
   "cell_type": "code",
   "execution_count": 27,
   "metadata": {},
   "outputs": [
    {
     "ename": "AttributeError",
     "evalue": "'DataFrameLocal' object has no attribute 'pivot'",
     "output_type": "error",
     "traceback": [
      "\u001b[0;31m---------------------------------------------------------------------------\u001b[0m",
      "\u001b[0;31mAttributeError\u001b[0m                            Traceback (most recent call last)",
      "\u001b[0;32m/tmp/ipykernel_3485/4126242364.py\u001b[0m in \u001b[0;36m<cell line: 1>\u001b[0;34m()\u001b[0m\n\u001b[0;32m----> 1\u001b[0;31m \u001b[0mfinal_dataset\u001b[0m \u001b[0;34m=\u001b[0m \u001b[0mratings\u001b[0m\u001b[0;34m.\u001b[0m\u001b[0mpivot\u001b[0m\u001b[0;34m(\u001b[0m\u001b[0mindex\u001b[0m\u001b[0;34m=\u001b[0m\u001b[0;34m'movieId'\u001b[0m\u001b[0;34m,\u001b[0m \u001b[0mcolumns\u001b[0m\u001b[0;34m=\u001b[0m\u001b[0;34m'userId'\u001b[0m\u001b[0;34m,\u001b[0m \u001b[0mvalues\u001b[0m\u001b[0;34m=\u001b[0m\u001b[0;34m'rating'\u001b[0m\u001b[0;34m)\u001b[0m\u001b[0;34m\u001b[0m\u001b[0;34m\u001b[0m\u001b[0m\n\u001b[0m",
      "\u001b[0;32m~/asiak-movengine/env/lib/python3.8/site-packages/vaex/dataframe.py\u001b[0m in \u001b[0;36m__getattr__\u001b[0;34m(self, name)\u001b[0m\n\u001b[1;32m    282\u001b[0m             \u001b[0;32mreturn\u001b[0m \u001b[0mself\u001b[0m\u001b[0;34m.\u001b[0m\u001b[0m__hidden__\u001b[0m\u001b[0;34m[\u001b[0m\u001b[0mname\u001b[0m\u001b[0;34m]\u001b[0m\u001b[0;34m.\u001b[0m\u001b[0m__get__\u001b[0m\u001b[0;34m(\u001b[0m\u001b[0mself\u001b[0m\u001b[0;34m)\u001b[0m\u001b[0;34m\u001b[0m\u001b[0;34m\u001b[0m\u001b[0m\n\u001b[1;32m    283\u001b[0m         \u001b[0;32melse\u001b[0m\u001b[0;34m:\u001b[0m\u001b[0;34m\u001b[0m\u001b[0;34m\u001b[0m\u001b[0m\n\u001b[0;32m--> 284\u001b[0;31m             \u001b[0;32mreturn\u001b[0m \u001b[0mobject\u001b[0m\u001b[0;34m.\u001b[0m\u001b[0m__getattribute__\u001b[0m\u001b[0;34m(\u001b[0m\u001b[0mself\u001b[0m\u001b[0;34m,\u001b[0m \u001b[0mname\u001b[0m\u001b[0;34m)\u001b[0m\u001b[0;34m\u001b[0m\u001b[0;34m\u001b[0m\u001b[0m\n\u001b[0m\u001b[1;32m    285\u001b[0m \u001b[0;34m\u001b[0m\u001b[0m\n\u001b[1;32m    286\u001b[0m     \u001b[0;32mdef\u001b[0m \u001b[0m_ipython_key_completions_\u001b[0m\u001b[0;34m(\u001b[0m\u001b[0mself\u001b[0m\u001b[0;34m)\u001b[0m\u001b[0;34m:\u001b[0m\u001b[0;34m\u001b[0m\u001b[0;34m\u001b[0m\u001b[0m\n",
      "\u001b[0;31mAttributeError\u001b[0m: 'DataFrameLocal' object has no attribute 'pivot'"
     ]
    }
   ],
   "source": [
    "final_dataset = ratings.pivot(index='movieId', columns='userId', values='rating')\n"
   ]
  },
  {
   "cell_type": "code",
   "execution_count": null,
   "metadata": {},
   "outputs": [],
   "source": []
  },
  {
   "cell_type": "code",
   "execution_count": null,
   "metadata": {},
   "outputs": [],
   "source": []
  },
  {
   "cell_type": "code",
   "execution_count": null,
   "metadata": {},
   "outputs": [],
   "source": []
  },
  {
   "cell_type": "code",
   "execution_count": null,
   "metadata": {},
   "outputs": [],
   "source": []
  }
 ],
 "metadata": {
  "kernelspec": {
   "display_name": "Python 3.8.10 ('env': venv)",
   "language": "python",
   "name": "python3"
  },
  "language_info": {
   "codemirror_mode": {
    "name": "ipython",
    "version": 3
   },
   "file_extension": ".py",
   "mimetype": "text/x-python",
   "name": "python",
   "nbconvert_exporter": "python",
   "pygments_lexer": "ipython3",
   "version": "3.8.10"
  },
  "orig_nbformat": 4,
  "vscode": {
   "interpreter": {
    "hash": "530e76e62c2839e02be21c7b301f6f7cd4b9c5f72e0ea08bf98c45f65f1ff33a"
   }
  }
 },
 "nbformat": 4,
 "nbformat_minor": 2
}
